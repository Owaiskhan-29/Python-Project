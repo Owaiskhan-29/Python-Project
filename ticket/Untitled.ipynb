{
 "cells": [
  {
   "cell_type": "code",
   "execution_count": 2,
   "id": "16029139",
   "metadata": {},
   "outputs": [
    {
     "name": "stdout",
     "output_type": "stream",
     "text": [
      "Number: 15, Price: 30.0\n",
      "Number: 16, Price: 40.0\n",
      "Number: 17, Price: 50.0\n",
      "Number: 18, Price: 50.0\n",
      "Number: 99, Price: 20.0 (ID required)\n",
      "Number: 19, Price: 50.0\n",
      "Number: 100, Price: 30.0\n",
      "Number: 101, Price: 15.0 (ID required)\n",
      "Number: 20, Price: 50.0\n",
      "Number: 30, Price: 15.0 (ID required)\n",
      "Number: 21, Price: 15.0 (ID required)\n",
      "Number: 31, Price: 30.0\n",
      "Number: 899, Price: 15.0 (ID required)\n",
      "Number: 900, Price: 30.0\n",
      "Number: 22, Price: 50.0\n"
     ]
    }
   ],
   "source": [
    "\n",
    "from Ticket import Ticket\n",
    "from WalkupTicket import WalkupTicket\n",
    "from AdvanceTicket import AdvanceTicket\n",
    "from StudentAdvanceTicket import StudentAdvanceTicket;\n",
    "\n",
    "class TicketTester(WalkupTicket,StudentAdvanceTicket):\n",
    "\n",
    "    for tick in range(0,15):\n",
    "        tick = WalkupTicket();  # Actually calls constructor for each time.\n",
    "        # First 15 tickets were reserved. So they do not exist or not available to book those ticket numbers;\n",
    "\n",
    "    print (AdvanceTicket(10,20));   # Here is ticket number 10, purchased 20 days in advance; So, Ticket Number: 15, Price: 30.0\n",
    "    print (AdvanceTicket());  # Must print ticket unique number and relevent price. Number: 16, Price: 50.0\n",
    "\n",
    "    print (WalkupTicket(1));    # 2 attempted, but not allowed. if 1, Number: 17, Price: 50.0\n",
    "    print (WalkupTicket());\t   # Must print ticket unique number (sequencially) and price for walkup Ticket.\n",
    "\n",
    "    print (StudentAdvanceTicket(99,9));\t# Number: 99, price: 20.0 and must print as \"(ID required)\" as he/she is a student.\n",
    "    print (StudentAdvanceTicket());\t   # Number: (Auto generated unique & sequencial number), Price: 50.0. Do not required to print as (ID required)\n",
    "\n",
    "    print (AdvanceTicket(99,10));  # 99 already used? So With above, Number: 100, Price: 40.0\n",
    "    print (StudentAdvanceTicket(99, 20));\n",
    "\n",
    "    print (WalkupTicket())\n",
    "    print (StudentAdvanceTicket(30, 30))\n",
    "    print (StudentAdvanceTicket(10, 20))\n",
    "\n",
    "    print (AdvanceTicket(30, 40))\n",
    "\n",
    "    print (StudentAdvanceTicket(899, 20 ))\n",
    "\n",
    "    print (AdvanceTicket(899, 16))\n",
    "   \n",
    "\n",
    "\n",
    "    print (WalkupTicket())\n"
   ]
  },
  {
   "cell_type": "code",
   "execution_count": null,
   "id": "16db424d",
   "metadata": {},
   "outputs": [],
   "source": []
  }
 ],
 "metadata": {
  "kernelspec": {
   "display_name": "Python 3 (ipykernel)",
   "language": "python",
   "name": "python3"
  },
  "language_info": {
   "codemirror_mode": {
    "name": "ipython",
    "version": 3
   },
   "file_extension": ".py",
   "mimetype": "text/x-python",
   "name": "python",
   "nbconvert_exporter": "python",
   "pygments_lexer": "ipython3",
   "version": "3.9.13"
  }
 },
 "nbformat": 4,
 "nbformat_minor": 5
}

{
 "cells": [
  {
   "cell_type": "code",
   "execution_count": 8,
   "id": "e6da8db5",
   "metadata": {},
   "outputs": [
    {
     "ename": "ModuleNotFoundError",
     "evalue": "No module named 'prediction_Validation_Insertion'",
     "output_type": "error",
     "traceback": [
      "\u001b[1;31m---------------------------------------------------------------------------\u001b[0m",
      "\u001b[1;31mModuleNotFoundError\u001b[0m                       Traceback (most recent call last)",
      "\u001b[1;32m~\\AppData\\Local\\Temp\\ipykernel_17256\\1229467034.py\u001b[0m in \u001b[0;36m<module>\u001b[1;34m\u001b[0m\n\u001b[0;32m      4\u001b[0m \u001b[1;32mimport\u001b[0m \u001b[0mos\u001b[0m\u001b[1;33m\u001b[0m\u001b[1;33m\u001b[0m\u001b[0m\n\u001b[0;32m      5\u001b[0m \u001b[1;32mfrom\u001b[0m \u001b[0mflask_cors\u001b[0m \u001b[1;32mimport\u001b[0m \u001b[0mCORS\u001b[0m\u001b[1;33m,\u001b[0m \u001b[0mcross_origin\u001b[0m\u001b[1;33m\u001b[0m\u001b[1;33m\u001b[0m\u001b[0m\n\u001b[1;32m----> 6\u001b[1;33m \u001b[1;32mfrom\u001b[0m \u001b[0mprediction_Validation_Insertion\u001b[0m \u001b[1;32mimport\u001b[0m \u001b[0mpred_validation\u001b[0m\u001b[1;33m\u001b[0m\u001b[1;33m\u001b[0m\u001b[0m\n\u001b[0m\u001b[0;32m      7\u001b[0m \u001b[1;32mfrom\u001b[0m \u001b[0mtrainingModel\u001b[0m \u001b[1;32mimport\u001b[0m \u001b[0mtrainModel\u001b[0m\u001b[1;33m\u001b[0m\u001b[1;33m\u001b[0m\u001b[0m\n\u001b[0;32m      8\u001b[0m \u001b[1;32mfrom\u001b[0m \u001b[0mtraining_Validation_Insertion\u001b[0m \u001b[1;32mimport\u001b[0m \u001b[0mtrain_validation\u001b[0m\u001b[1;33m\u001b[0m\u001b[1;33m\u001b[0m\u001b[0m\n",
      "\u001b[1;31mModuleNotFoundError\u001b[0m: No module named 'prediction_Validation_Insertion'"
     ]
    }
   ],
   "source": [
    "from wsgiref import simple_server\n",
    "from flask import Flask, request\n",
    "from flask import Response\n",
    "import os\n",
    "from flask_cors import CORS, cross_origin\n",
    "from prediction_Validation_Insertion import pred_validation\n",
    "from trainingModel import trainModel\n",
    "from training_Validation_Insertion import train_validation\n",
    "import flask_monitoringdashboard as dashboard\n",
    "from predictFromModel import prediction\n",
    "\n",
    "os.putenv('LANG', 'en_US.UTF-8')\n",
    "os.putenv('LC_ALL', 'en_US.UTF-8')\n",
    "\n",
    "app = Flask(__name__)\n",
    "dashboard.bind(app)\n",
    "CORS(app)\n",
    "\n",
    "\n",
    "@app.route(\"/predict\", methods=['POST'])\n",
    "@cross_origin()\n",
    "def predictRouteClient():\n",
    "    try:\n",
    "        if request.json['folderPath'] is not None:\n",
    "            path = request.json['folderPath']\n",
    "\n",
    "            pred_val = pred_validation(path) #object initialization\n",
    "\n",
    "            pred_val.prediction_validation() #calling the prediction_validation function\n",
    "\n",
    "            pred = prediction(path) #object initialization\n",
    "\n",
    "            # predicting for dataset present in database\n",
    "            path = pred.predictionFromModel()\n",
    "            return Response(\"Prediction File created at %s!!!\" % path)\n",
    "\n",
    "    except ValueError:\n",
    "        return Response(\"Error Occurred! %s\" %ValueError)\n",
    "    except KeyError:\n",
    "        return Response(\"Error Occurred! %s\" %KeyError)\n",
    "    except Exception as e:\n",
    "        return Response(\"Error Occurred! %s\" %e)\n",
    "\n",
    "\n",
    "\n",
    "@app.route(\"/train\", methods=['POST'])\n",
    "@cross_origin()\n",
    "def trainRouteClient():\n",
    "\n",
    "    try:\n",
    "        if request.json['folderPath'] is not None:\n",
    "            path = request.json['folderPath']\n",
    "            train_valObj = train_validation(path) #object initialization\n",
    "\n",
    "            train_valObj.train_validation()#calling the training_validation function\n",
    "\n",
    "\n",
    "            trainModelObj = trainModel() #object initialization\n",
    "            trainModelObj.trainingModel() #training the model for the files in the table\n",
    "\n",
    "\n",
    "    except ValueError:\n",
    "\n",
    "        return Response(\"Error Occurred! %s\" % ValueError)\n",
    "\n",
    "    except KeyError:\n",
    "\n",
    "        return Response(\"Error Occurred! %s\" % KeyError)\n",
    "\n",
    "    except Exception as e:\n",
    "\n",
    "        return Response(\"Error Occurred! %s\" % e)\n",
    "    return Response(\"Training successfull!!\")\n",
    "\n",
    "port = int(os.getenv(\"PORT\"))\n",
    "if __name__ == \"__main__\":\n",
    "    host = '0.0.0.0'\n",
    "    #port = 5000\n",
    "    httpd = simple_server.make_server(host, port, app)\n",
    "    # print(\"Serving on %s %d\" % (host, port))\n",
    "    httpd.serve_forever()\n"
   ]
  },
  {
   "cell_type": "code",
   "execution_count": 7,
   "id": "f9abd92a",
   "metadata": {},
   "outputs": [
    {
     "name": "stdout",
     "output_type": "stream",
     "text": [
      "Defaulting to user installation because normal site-packages is not writeable\n",
      "Collecting flask_cors\n",
      "  Downloading Flask_Cors-3.0.10-py2.py3-none-any.whl (14 kB)\n",
      "Requirement already satisfied: Flask>=0.9 in c:\\programdata\\anaconda3\\lib\\site-packages (from flask_cors) (1.1.2)\n",
      "Requirement already satisfied: Six in c:\\programdata\\anaconda3\\lib\\site-packages (from flask_cors) (1.16.0)\n",
      "Requirement already satisfied: Werkzeug>=0.15 in c:\\programdata\\anaconda3\\lib\\site-packages (from Flask>=0.9->flask_cors) (2.0.3)\n",
      "Requirement already satisfied: itsdangerous>=0.24 in c:\\programdata\\anaconda3\\lib\\site-packages (from Flask>=0.9->flask_cors) (2.0.1)\n",
      "Requirement already satisfied: Jinja2>=2.10.1 in c:\\programdata\\anaconda3\\lib\\site-packages (from Flask>=0.9->flask_cors) (2.11.3)\n",
      "Requirement already satisfied: click>=5.1 in c:\\programdata\\anaconda3\\lib\\site-packages (from Flask>=0.9->flask_cors) (8.0.4)\n",
      "Requirement already satisfied: colorama in c:\\programdata\\anaconda3\\lib\\site-packages (from click>=5.1->Flask>=0.9->flask_cors) (0.4.5)\n",
      "Requirement already satisfied: MarkupSafe>=0.23 in c:\\programdata\\anaconda3\\lib\\site-packages (from Jinja2>=2.10.1->Flask>=0.9->flask_cors) (2.0.1)\n",
      "Installing collected packages: flask_cors\n",
      "Successfully installed flask_cors-3.0.10\n"
     ]
    }
   ],
   "source": [
    "!pip install flask_cors\n"
   ]
  },
  {
   "cell_type": "code",
   "execution_count": 9,
   "id": "ce39b0f4",
   "metadata": {},
   "outputs": [
    {
     "name": "stdout",
     "output_type": "stream",
     "text": [
      "Defaulting to user installation because normal site-packages is not writeable\n"
     ]
    },
    {
     "name": "stderr",
     "output_type": "stream",
     "text": [
      "ERROR: Could not find a version that satisfies the requirement prediction_Validation_Insertion (from versions: none)\n",
      "ERROR: No matching distribution found for prediction_Validation_Insertion\n"
     ]
    }
   ],
   "source": [
    "!pip install prediction_Validation_Insertion"
   ]
  },
  {
   "cell_type": "code",
   "execution_count": null,
   "id": "76468b98",
   "metadata": {},
   "outputs": [],
   "source": []
  }
 ],
 "metadata": {
  "kernelspec": {
   "display_name": "Python 3 (ipykernel)",
   "language": "python",
   "name": "python3"
  },
  "language_info": {
   "codemirror_mode": {
    "name": "ipython",
    "version": 3
   },
   "file_extension": ".py",
   "mimetype": "text/x-python",
   "name": "python",
   "nbconvert_exporter": "python",
   "pygments_lexer": "ipython3",
   "version": "3.9.13"
  }
 },
 "nbformat": 4,
 "nbformat_minor": 5
}
